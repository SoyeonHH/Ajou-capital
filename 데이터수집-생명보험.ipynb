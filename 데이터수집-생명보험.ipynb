{
 "cells": [
  {
   "cell_type": "code",
   "execution_count": 1,
   "metadata": {},
   "outputs": [],
   "source": [
    "import requests\n",
    "from bs4 import BeautifulSoup\n",
    "import traceback\n",
    "import pandas as pd"
   ]
  },
  {
   "cell_type": "code",
   "execution_count": 2,
   "metadata": {},
   "outputs": [],
   "source": [
    "code_num = ['032830','003690','082640','085620','088350']\n",
    "code_name = ['삼성생명','코리안리','동양생명','미래에셋생명','한화생명']"
   ]
  },
  {
   "cell_type": "code",
   "execution_count": 3,
   "metadata": {},
   "outputs": [],
   "source": [
    "def parse_page(code, page):\n",
    "    try:\n",
    "        url = 'http://finance.naver.com/item/sise_day.nhn?code={code}&page={page}'.format(code=code, page=page)\n",
    "        res = requests.get(url)\n",
    "        _soap = BeautifulSoup(res.text, 'lxml')\n",
    "        _df = pd.read_html(str(_soap.find(\"table\")), header=0)[0]\n",
    "        _df = _df.dropna()\n",
    "        return _df\n",
    "    except Exception as e:\n",
    "        traceback.print_exc()\n",
    "    return None"
   ]
  },
  {
   "cell_type": "code",
   "execution_count": 4,
   "metadata": {},
   "outputs": [],
   "source": [
    "#i는 위치, v는 code num\n",
    "for i, v in enumerate(code_num):\n",
    "    code = v\n",
    "    url = 'http://finance.naver.com/item/sise_day.nhn?code={code}'.format(code=code)\n",
    "    res = requests.get(url)\n",
    "    res.encoding = 'utf-8'\n",
    "    res.status_code\n",
    "    \n",
    "    soap = BeautifulSoup(res.text, 'lxml')\n",
    "    \n",
    "    \n",
    "    el_table_navi = soap.find(\"table\", class_=\"Nnavi\")\n",
    "    el_td_last = el_table_navi.find(\"td\", class_=\"pgRR\")\n",
    "    pg_last = el_td_last.a.get('href').rsplit('&')[1]\n",
    "    pg_last = pg_last.split('=')[1]\n",
    "    pg_last = int(pg_last)\n",
    "    \n",
    "    data = parse_page(code, 1)\n",
    "    \n",
    "    for j in range(2,62):\n",
    "        data = pd.concat([data,pd.DataFrame(parse_page(code, j))],axis = 0)\n",
    "        \n",
    "    data.to_csv('%s.csv'%code_name[i])\n",
    "    "
   ]
  }
 ],
 "metadata": {
  "kernelspec": {
   "display_name": "Python 3",
   "language": "python",
   "name": "python3"
  },
  "language_info": {
   "codemirror_mode": {
    "name": "ipython",
    "version": 3
   },
   "file_extension": ".py",
   "mimetype": "text/x-python",
   "name": "python",
   "nbconvert_exporter": "python",
   "pygments_lexer": "ipython3",
   "version": "3.6.4"
  }
 },
 "nbformat": 4,
 "nbformat_minor": 2
}
